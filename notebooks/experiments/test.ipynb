{
 "cells": [
  {
   "cell_type": "code",
   "execution_count": 11,
   "id": "0e975d5d",
   "metadata": {},
   "outputs": [],
   "source": [
    "import torch"
   ]
  },
  {
   "cell_type": "code",
   "execution_count": 16,
   "id": "51ff2473",
   "metadata": {},
   "outputs": [],
   "source": [
    "a_corr = torch.tensor(\n",
    "    [\n",
    "        [1.0, -2.0, 3.0], \n",
    "        [4.0, -5.0, 6.0]\n",
    "    ]\n",
    ")\n",
    "epsilon = 0"
   ]
  },
  {
   "cell_type": "code",
   "execution_count": 18,
   "id": "b5ff8393",
   "metadata": {},
   "outputs": [
    {
     "data": {
      "text/plain": [
       "tensor([[1., 0., 3.],\n",
       "        [4., 0., 6.]])"
      ]
     },
     "execution_count": 18,
     "metadata": {},
     "output_type": "execute_result"
    }
   ],
   "source": [
    "denominator1 = a_corr.clamp(min=epsilon)\n",
    "denominator1"
   ]
  },
  {
   "cell_type": "code",
   "execution_count": 14,
   "id": "bc5f74c5",
   "metadata": {},
   "outputs": [
    {
     "data": {
      "text/plain": [
       "torch.return_types.max(\n",
       "values=tensor([ 4., -2.,  6.]),\n",
       "indices=tensor([1, 0, 1]))"
      ]
     },
     "execution_count": 14,
     "metadata": {},
     "output_type": "execute_result"
    }
   ],
   "source": [
    "denominator2 = torch.max(a_corr.squeeze(), epsilon)\n",
    "denominator2"
   ]
  },
  {
   "cell_type": "code",
   "execution_count": null,
   "id": "97b54fbd",
   "metadata": {},
   "outputs": [
    {
     "ename": "RuntimeError",
     "evalue": "Boolean value of Tensor with more than one value is ambiguous",
     "output_type": "error",
     "traceback": [
      "\u001b[31m---------------------------------------------------------------------------\u001b[39m",
      "\u001b[31mRuntimeError\u001b[39m                              Traceback (most recent call last)",
      "\u001b[36mCell\u001b[39m\u001b[36m \u001b[39m\u001b[32mIn[15]\u001b[39m\u001b[32m, line 1\u001b[39m\n\u001b[32m----> \u001b[39m\u001b[32m1\u001b[39m denominator3 = a_corr \u001b[38;5;28;01mif\u001b[39;00m a_corr > torch.full_like(a_corr, epsilon) \u001b[38;5;28;01melse\u001b[39;00m torch.full_like(a_corr, epsilon)\n\u001b[32m      2\u001b[39m denominator3\n",
      "\u001b[31mRuntimeError\u001b[39m: Boolean value of Tensor with more than one value is ambiguous"
     ]
    }
   ],
   "source": []
  },
  {
   "cell_type": "code",
   "execution_count": null,
   "id": "1d4a36a8",
   "metadata": {},
   "outputs": [],
   "source": []
  }
 ],
 "metadata": {
  "kernelspec": {
   "display_name": "ITER-transformers-for-tokamak-timeseries (3.11.12)",
   "language": "python",
   "name": "python3"
  },
  "language_info": {
   "codemirror_mode": {
    "name": "ipython",
    "version": 3
   },
   "file_extension": ".py",
   "mimetype": "text/x-python",
   "name": "python",
   "nbconvert_exporter": "python",
   "pygments_lexer": "ipython3",
   "version": "3.11.12"
  }
 },
 "nbformat": 4,
 "nbformat_minor": 5
}
