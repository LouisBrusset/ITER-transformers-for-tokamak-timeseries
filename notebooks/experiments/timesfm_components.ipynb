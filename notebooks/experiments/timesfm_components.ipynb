{
 "cells": [
  {
   "cell_type": "markdown",
   "id": "99b6a04b",
   "metadata": {},
   "source": [
    "# HuggingFace TimesFM test"
   ]
  },
  {
   "cell_type": "code",
   "execution_count": 1,
   "id": "5ea3624e",
   "metadata": {},
   "outputs": [],
   "source": [
    "# Standard librairy\n",
    "import os\n",
    "from pathlib import Path\n",
    "from tqdm import tqdm\n",
    "\n",
    "# Librairies\n",
    "import numpy as np\n",
    "%matplotlib widget\n",
    "import matplotlib.pyplot as plt\n",
    "import pandas as pd\n",
    "\n",
    "# ML librairies\n",
    "import torch\n",
    "import torch.nn as nn"
   ]
  },
  {
   "cell_type": "code",
   "execution_count": 2,
   "id": "937bca88",
   "metadata": {},
   "outputs": [],
   "source": [
    "from transformers import (\n",
    "    PatchTSTConfig,\n",
    "    TimesFmModelForPrediction\n",
    ")\n",
    "\n",
    "from transformers import set_seed\n",
    "set_seed(42)"
   ]
  },
  {
   "cell_type": "code",
   "execution_count": 3,
   "id": "5e560255",
   "metadata": {},
   "outputs": [],
   "source": [
    "timesfm = TimesFmModelForPrediction.from_pretrained(\n",
    "    \"google/timesfm-2.0-500m-pytorch\",\n",
    "    dtype=torch.bfloat16,\n",
    "    attn_implementation=\"sdpa\",\n",
    "    device_map=\"auto\",\n",
    ")"
   ]
  },
  {
   "cell_type": "code",
   "execution_count": 6,
   "id": "e1cfca5f",
   "metadata": {},
   "outputs": [
    {
     "name": "stdout",
     "output_type": "stream",
     "text": [
      "\n",
      "Model: \n",
      "TimesFmModelForPrediction(\n",
      "  (decoder): TimesFmModel(\n",
      "    (input_ff_layer): TimesFmResidualBlock(\n",
      "      (input_layer): Linear(in_features=64, out_features=1280, bias=True)\n",
      "      (activation): SiLU()\n",
      "      (output_layer): Linear(in_features=1280, out_features=1280, bias=True)\n",
      "      (residual_layer): Linear(in_features=64, out_features=1280, bias=True)\n",
      "    )\n",
      "    (freq_emb): Embedding(3, 1280)\n",
      "    (layers): ModuleList(\n",
      "      (0-49): 50 x TimesFmDecoderLayer(\n",
      "        (self_attn): TimesFmAttention(\n",
      "          (q_proj): Linear(in_features=1280, out_features=1280, bias=True)\n",
      "          (k_proj): Linear(in_features=1280, out_features=1280, bias=True)\n",
      "          (v_proj): Linear(in_features=1280, out_features=1280, bias=True)\n",
      "          (o_proj): Linear(in_features=1280, out_features=1280, bias=True)\n",
      "        )\n",
      "        (mlp): TimesFmMLP(\n",
      "          (gate_proj): Linear(in_features=1280, out_features=1280, bias=True)\n",
      "          (down_proj): Linear(in_features=1280, out_features=1280, bias=True)\n",
      "          (layer_norm): LayerNorm((1280,), eps=1e-06, elementwise_affine=True)\n",
      "        )\n",
      "        (input_layernorm): TimesFmRMSNorm((1280,), eps=1e-06)\n",
      "      )\n",
      "    )\n",
      "  )\n",
      "  (horizon_ff_layer): TimesFmResidualBlock(\n",
      "    (input_layer): Linear(in_features=1280, out_features=1280, bias=True)\n",
      "    (activation): SiLU()\n",
      "    (output_layer): Linear(in_features=1280, out_features=1280, bias=True)\n",
      "    (residual_layer): Linear(in_features=1280, out_features=1280, bias=True)\n",
      "  )\n",
      ")\n",
      "\n",
      "-----------------------\n",
      "\n",
      "\n",
      "Number of parameters: \n",
      "498.83M\n",
      "\n",
      "-----------------------\n",
      "\n",
      "\n",
      "Config: \n",
      "TimesFmConfig {\n",
      "  \"architectures\": [\n",
      "    \"TimesFmModelForPrediction\"\n",
      "  ],\n",
      "  \"attention_dropout\": 0.0,\n",
      "  \"context_length\": 2048,\n",
      "  \"dtype\": \"bfloat16\",\n",
      "  \"freq_size\": 3,\n",
      "  \"head_dim\": 80,\n",
      "  \"hidden_size\": 1280,\n",
      "  \"horizon_length\": 128,\n",
      "  \"initializer_range\": 0.02,\n",
      "  \"intermediate_size\": 1280,\n",
      "  \"max_timescale\": 10000,\n",
      "  \"min_timescale\": 1,\n",
      "  \"model_type\": \"timesfm\",\n",
      "  \"num_attention_heads\": 16,\n",
      "  \"num_hidden_layers\": 50,\n",
      "  \"pad_val\": 1123581321.0,\n",
      "  \"patch_length\": 32,\n",
      "  \"quantiles\": [\n",
      "    0.1,\n",
      "    0.2,\n",
      "    0.3,\n",
      "    0.4,\n",
      "    0.5,\n",
      "    0.6,\n",
      "    0.7,\n",
      "    0.8,\n",
      "    0.9\n",
      "  ],\n",
      "  \"rms_norm_eps\": 1e-06,\n",
      "  \"tolerance\": 1e-06,\n",
      "  \"transformers_version\": \"4.56.0\",\n",
      "  \"use_positional_embedding\": false\n",
      "}\n",
      "\n"
     ]
    }
   ],
   "source": [
    "print(f\"\\nModel: \\n{timesfm}\")\n",
    "print(\"\\n-----------------------\\n\\n\")\n",
    "print(f\"Number of parameters: \\n{timesfm.num_parameters()/1e6:.2f}M\")\n",
    "print(\"\\n-----------------------\\n\\n\")\n",
    "print(f\"Config: \\n{timesfm.config}\")"
   ]
  },
  {
   "cell_type": "code",
   "execution_count": null,
   "id": "bf20d91f",
   "metadata": {},
   "outputs": [],
   "source": [
    "with torch.no_grad():\n",
    "    # Passer la série through le modèle\n",
    "    outputs = model.decoder(input_patches)\n",
    "    \n",
    "    # outputs.shape = [batch_size, num_patches, hidden_size=1280]\n",
    "    \n",
    "    # Option 1: Moyenne sur tous les patches\n",
    "    series_embedding = outputs.mean(dim=1)  # [batch_size, 1280]"
   ]
  },
  {
   "cell_type": "code",
   "execution_count": null,
   "id": "d2ef340b",
   "metadata": {},
   "outputs": [],
   "source": []
  },
  {
   "cell_type": "code",
   "execution_count": null,
   "id": "054921c0",
   "metadata": {},
   "outputs": [],
   "source": []
  },
  {
   "cell_type": "code",
   "execution_count": null,
   "id": "ba41181f",
   "metadata": {},
   "outputs": [],
   "source": []
  },
  {
   "cell_type": "code",
   "execution_count": null,
   "id": "753bdc39",
   "metadata": {},
   "outputs": [],
   "source": []
  },
  {
   "cell_type": "code",
   "execution_count": null,
   "id": "66413e35",
   "metadata": {},
   "outputs": [],
   "source": []
  }
 ],
 "metadata": {
  "kernelspec": {
   "display_name": "ITER-transformers-for-tokamak-timeseries (3.11.12)",
   "language": "python",
   "name": "python3"
  },
  "language_info": {
   "codemirror_mode": {
    "name": "ipython",
    "version": 3
   },
   "file_extension": ".py",
   "mimetype": "text/x-python",
   "name": "python",
   "nbconvert_exporter": "python",
   "pygments_lexer": "ipython3",
   "version": "3.11.12"
  }
 },
 "nbformat": 4,
 "nbformat_minor": 5
}
